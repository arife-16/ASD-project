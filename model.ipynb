{
  "nbformat": 4,
  "nbformat_minor": 0,
  "metadata": {
    "colab": {
      "provenance": []
    },
    "kernelspec": {
      "name": "python3",
      "display_name": "Python 3"
    },
    "language_info": {
      "name": "python"
    }
  },
  "cells": [
    {
      "cell_type": "markdown",
      "source": [
        "**Transfer Learning:** Using a pre-trained model like **ResNet50** leverages knowledge learned from a massive dataset **(ImageNet)**. This is extremely beneficial, especially when you have limited fMRI data. Transfer learning often leads to better performance and faster training. As we train the model we will explore the other options for training.\n"
      ],
      "metadata": {
        "id": "14UeZQ3TYTYp"
      }
    },
    {
      "cell_type": "code",
      "execution_count": 1,
      "metadata": {
        "id": "mdflngCIYP2u"
      },
      "outputs": [],
      "source": [
        "import tensorflow as tf\n",
        "import numpy as np\n",
        "import matplotlib.pyplot as plt"
      ]
    },
    {
      "cell_type": "code",
      "source": [
        "from tensorflow.keras.applications.resnet50 import ResNet50\n",
        "from tensorflow.keras.preprocessing import image\n",
        "from tensorflow.keras.applications.resnet50 import preprocess_input, decode_predictions"
      ],
      "metadata": {
        "id": "oCitCz-5Yzr4"
      },
      "execution_count": null,
      "outputs": []
    },
    {
      "cell_type": "markdown",
      "source": [
        "**Global Average Pooling:** The GlobalAveragePooling2D layer reduces the spatial dimensions of the feature maps to a single vector, which is then fed into the fully connected layers. This helps prevent overfitting and reduces the number of parameters to train.\n",
        "**Binary Classification Output:** The final Dense layer with a sigmoid activation is appropriate for binary classification problems.\n",
        "**Adam Optimizer:** Adam is a popular and effective optimizer for deep learning."
      ],
      "metadata": {
        "id": "dB4zmftCZG_F"
      }
    },
    {
      "cell_type": "code",
      "source": [
        "from tensorflow.keras.layers import Dense, GlobalAveragePooling2D, Dropout, BatchNormalization\n",
        "from tensorflow.keras.models import Model\n",
        "from tensorflow.keras.optimizers import Adam"
      ],
      "metadata": {
        "id": "K8JtWjcUY1Ml"
      },
      "execution_count": null,
      "outputs": []
    },
    {
      "cell_type": "markdown",
      "source": [
        "Load pre-trained ResNet-50 model. For the input shape we will adjust it according to the dataset we will get. If we are using functional connectivity matrices, we might consider using 2D convolutional layers to directly process the matrix data."
      ],
      "metadata": {
        "id": "nzNhYGwVZeCP"
      }
    },
    {
      "cell_type": "code",
      "source": [
        "# ... (Load and preprocess your data: train_data, train_labels, val_data, val_labels, test_data, test_labels) ..."
      ],
      "metadata": {
        "id": "L26HYfg-eOME"
      },
      "execution_count": null,
      "outputs": []
    },
    {
      "cell_type": "code",
      "source": [
        "base_model = ResNet50(weights=\"imagenet\", include_top=False, input_shape=(a,b,c))"
      ],
      "metadata": {
        "id": "3I5I3iQ6Y1mV"
      },
      "execution_count": null,
      "outputs": []
    },
    {
      "cell_type": "markdown",
      "source": [
        "Freeze initial layers.\n",
        "Freezing layers in transfer learning allows you to leverage pre-trained knowledge, prevent overfitting, speed up training, and fine-tune specific features for your task."
      ],
      "metadata": {
        "id": "1yIOuxiqaN_o"
      }
    },
    {
      "cell_type": "code",
      "source": [
        "for layer in base_model.layers:\n",
        "  layer.trainable = False"
      ],
      "metadata": {
        "id": "MsQO8dQdZdkW"
      },
      "execution_count": null,
      "outputs": []
    },
    {
      "cell_type": "markdown",
      "source": [
        "Determine the output tensor of the frozen base model. This is usually the last layer of the base model."
      ],
      "metadata": {
        "id": "uj-s6SGKb7aH"
      }
    },
    {
      "cell_type": "code",
      "source": [
        "x = base_model.output"
      ],
      "metadata": {
        "id": "zRBbfgiSbZIE"
      },
      "execution_count": null,
      "outputs": []
    },
    {
      "cell_type": "markdown",
      "source": [
        "A common practice is to add a GlobalAveragePooling2D layer after the base model's output. This layer averages the feature maps across all spatial dimensions, resulting in a single vector for each image. This helps reduce the number of parameters and can improve generalization."
      ],
      "metadata": {
        "id": "2GxZ4jeGcHgd"
      }
    },
    {
      "cell_type": "code",
      "source": [
        "x = GlobalAveragePooling2D()(x)"
      ],
      "metadata": {
        "id": "3LHEu2G8cH3Y"
      },
      "execution_count": null,
      "outputs": []
    },
    {
      "cell_type": "markdown",
      "source": [
        "Add one or more fully connected (Dense) layers after the global average pooling layer. These layers will learn to combine the features extracted by the base model for your specific classification task."
      ],
      "metadata": {
        "id": "5iqQYd6fcSun"
      }
    },
    {
      "cell_type": "code",
      "source": [
        "# Batch Normalization (helps stabilize training)\n",
        "x = BatchNormalization()(x)"
      ],
      "metadata": {
        "id": "TZ9quwf2eVeU"
      },
      "execution_count": null,
      "outputs": []
    },
    {
      "cell_type": "code",
      "source": [
        "# Dropout (reduces overfitting)\n",
        "x = Dropout(0.5)(x)  # You can adjust the dropout rate (0.2 - 0.5 is common)"
      ],
      "metadata": {
        "id": "tzRCcaqIeYfN"
      },
      "execution_count": null,
      "outputs": []
    },
    {
      "cell_type": "code",
      "source": [
        "x = Dense(1024, activation='relu', kernel_regularizer=l2(0.001))(x)\n",
        "#you can adjust the number of neurons"
      ],
      "metadata": {
        "id": "-USi69S3cUZp"
      },
      "execution_count": null,
      "outputs": []
    },
    {
      "cell_type": "markdown",
      "source": [
        "Another Batch Normalization and Dropout can be added if needed\n",
        "\n",
        "*   x = BatchNormalization()(x)\n",
        "*   x = Dropout(a)(x)\n",
        "\n"
      ],
      "metadata": {
        "id": "w_IRAG73eoDQ"
      }
    },
    {
      "cell_type": "markdown",
      "source": [
        "The final layer should be a dense layer with a sigmoid activation function for binary classification (or softmax for multi-class classification). The number of neurons in this layer should match the number of classes in your problem (1 for binary, more for multi-class)."
      ],
      "metadata": {
        "id": "crAIDaaJcl4v"
      }
    },
    {
      "cell_type": "code",
      "source": [
        "predictions = Dense(1, activation='sigmoid')(x)  # Output layer (1 neuron for binary, sigmoid activation)"
      ],
      "metadata": {
        "id": "BLDvHdf2ctkI"
      },
      "execution_count": null,
      "outputs": []
    },
    {
      "cell_type": "markdown",
      "source": [
        "Combine the base model and the custom layers you've added to create the final model."
      ],
      "metadata": {
        "id": "ISSpaDggcs5S"
      }
    },
    {
      "cell_type": "code",
      "source": [
        "model = Model(inputs=base_model.input, outputs=predictions)"
      ],
      "metadata": {
        "id": "sQhJc0SSc_Ob"
      },
      "execution_count": null,
      "outputs": []
    },
    {
      "cell_type": "code",
      "source": [
        "model.compile(optimizer=Adam(learning_rate=0.0001), loss='binary_crossentropy', metrics=['accuracy'])"
      ],
      "metadata": {
        "id": "3vLSAYMpdBO5"
      },
      "execution_count": null,
      "outputs": []
    },
    {
      "cell_type": "markdown",
      "source": [
        "Train the Model:"
      ],
      "metadata": {
        "id": "9B09CvT4dSVJ"
      }
    },
    {
      "cell_type": "code",
      "source": [
        " training = model.fit(\n",
        "    train_data, train_labels,\n",
        "    validation_data=(val_data, val_labels),\n",
        "    epochs=\"a\",\n",
        "    batch_size=\"b\"\n",
        ")"
      ],
      "metadata": {
        "id": "rkvlwRmfdULf"
      },
      "execution_count": null,
      "outputs": []
    },
    {
      "cell_type": "markdown",
      "source": [
        "Evaluate the Model:"
      ],
      "metadata": {
        "id": "wm1rzr_4djvB"
      }
    },
    {
      "cell_type": "code",
      "source": [
        "test_loss, test_accuracy = model.evaluate(test_data, test_labels)\n",
        "print(f\"Test Accuracy: {test_accuracy:.4f}\")"
      ],
      "metadata": {
        "id": "Qlt3ulp8dsap"
      },
      "execution_count": null,
      "outputs": []
    },
    {
      "cell_type": "code",
      "source": [
        "# Get predictions on the test set\n",
        "y_pred_proba = model.predict(test_data)  # Get probabilities\n",
        "y_pred = (y_pred_proba > 0.5).astype(int)  # Convert probabilities to binary predictions (0 or 1)"
      ],
      "metadata": {
        "id": "wuktUFKyfDVj"
      },
      "execution_count": null,
      "outputs": []
    },
    {
      "cell_type": "markdown",
      "source": [
        "Calculate additional metrics"
      ],
      "metadata": {
        "id": "0RcVfKaVfCEp"
      }
    },
    {
      "cell_type": "code",
      "source": [
        "accuracy = accuracy_score(test_labels, y_pred)\n",
        "precision = precision_score(test_labels, y_pred)\n",
        "recall = recall_score(test_labels, y_pred)\n",
        "f1 = f1_score(test_labels, y_pred)\n",
        "auc_roc = roc_auc_score(test_labels, y_pred_proba)"
      ],
      "metadata": {
        "id": "gz1xvuAefJWN"
      },
      "execution_count": null,
      "outputs": []
    },
    {
      "cell_type": "code",
      "source": [
        "print(f\"Test Accuracy: {accuracy:.4f}\")\n",
        "print(f\"Test Precision: {precision:.4f}\")\n",
        "print(f\"Test Recall: {recall:.4f}\")\n",
        "print(f\"Test F1-score: {f1:.4f}\")\n",
        "print(f\"Test AUC-ROC: {auc_roc:.4f}\")"
      ],
      "metadata": {
        "id": "Wmr-ZFjzfOST"
      },
      "execution_count": null,
      "outputs": []
    }
  ]
}